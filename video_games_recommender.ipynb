{
 "cells": [
  {
   "cell_type": "code",
   "execution_count": 1,
   "metadata": {},
   "outputs": [
    {
     "name": "stderr",
     "output_type": "stream",
     "text": [
      "C:\\ProgramData\\Anaconda3\\lib\\site-packages\\sklearn\\ensemble\\weight_boosting.py:29: DeprecationWarning: numpy.core.umath_tests is an internal NumPy module and should not be imported. It will be removed in a future NumPy release.\n",
      "  from numpy.core.umath_tests import inner1d\n",
      "C:\\ProgramData\\Anaconda3\\lib\\site-packages\\lightfm\\_lightfm_fast.py:9: UserWarning: LightFM was compiled without OpenMP support. Only a single thread will be used.\n",
      "  warnings.warn('LightFM was compiled without OpenMP support. '\n"
     ]
    }
   ],
   "source": [
    "import pandas as pd\n",
    "import os\n",
    "import numpy as np\n",
    "from tqdm import tqdm\n",
    "from sklearn.model_selection import train_test_split\n",
    "from nltk.tokenize import word_tokenize\n",
    "from nltk.corpus import stopwords\n",
    "import string\n",
    "from sklearn.metrics import mean_squared_error, mean_absolute_error\n",
    "from sklearn import metrics\n",
    "from sklearn.feature_extraction.text import TfidfVectorizer\n",
    "from sklearn.linear_model import LogisticRegression, LinearRegression\n",
    "from sklearn.naive_bayes import MultinomialNB\n",
    "from sklearn.ensemble import RandomForestClassifier\n",
    "from sklearn.pipeline import Pipeline\n",
    "from xgboost.sklearn import XGBClassifier\n",
    "from sklearn.model_selection import GridSearchCV\n",
    "import scipy.sparse as sp\n",
    "from implicit.nearest_neighbours import TFIDFRecommender, CosineRecommender, BM25Recommender\n",
    "from implicit.als import AlternatingLeastSquares\n",
    "from collections import defaultdict\n",
    "from lightfm import LightFM\n",
    "from itertools import islice\n",
    "from nltk.stem import WordNetLemmatizer, SnowballStemmer"
   ]
  },
  {
   "cell_type": "code",
   "execution_count": 2,
   "metadata": {},
   "outputs": [],
   "source": [
    "%matplotlib inline\n",
    "tqdm.pandas()"
   ]
  },
  {
   "cell_type": "markdown",
   "metadata": {},
   "source": [
    "# Загрузка и анализ данных"
   ]
  },
  {
   "cell_type": "code",
   "execution_count": 3,
   "metadata": {},
   "outputs": [],
   "source": [
    "DATA_PATH = './'"
   ]
  },
  {
   "cell_type": "code",
   "execution_count": 4,
   "metadata": {},
   "outputs": [
    {
     "name": "stdout",
     "output_type": "stream",
     "text": [
      "Wall time: 29.8 s\n"
     ]
    }
   ],
   "source": [
    "%%time\n",
    "dataset = pd.read_csv(\n",
    "    os.path.join(DATA_PATH, 'reviews_Video_Games.csv'),\n",
    "    sep = ';', index_col = 0,\n",
    "    dtype={\n",
    "        'reviewerID': 'category',\n",
    "        'asin': 'category',\n",
    "        'reviewerName': 'str',\n",
    "        'helpful': 'object',\n",
    "        'reviewText': 'str',\n",
    "        'overall': np.float32,\n",
    "        'summary': 'str',\n",
    "        'reviewTime' : 'str'\n",
    "    },\n",
    "    parse_dates = ['reviewTime']\n",
    ")"
   ]
  },
  {
   "cell_type": "code",
   "execution_count": 5,
   "metadata": {},
   "outputs": [
    {
     "data": {
      "text/html": [
       "<div>\n",
       "<style scoped>\n",
       "    .dataframe tbody tr th:only-of-type {\n",
       "        vertical-align: middle;\n",
       "    }\n",
       "\n",
       "    .dataframe tbody tr th {\n",
       "        vertical-align: top;\n",
       "    }\n",
       "\n",
       "    .dataframe thead th {\n",
       "        text-align: right;\n",
       "    }\n",
       "</style>\n",
       "<table border=\"1\" class=\"dataframe\">\n",
       "  <thead>\n",
       "    <tr style=\"text-align: right;\">\n",
       "      <th></th>\n",
       "      <th>reviewerID</th>\n",
       "      <th>asin</th>\n",
       "      <th>reviewerName</th>\n",
       "      <th>helpful</th>\n",
       "      <th>reviewText</th>\n",
       "      <th>overall</th>\n",
       "      <th>summary</th>\n",
       "      <th>reviewTime</th>\n",
       "    </tr>\n",
       "  </thead>\n",
       "  <tbody>\n",
       "    <tr>\n",
       "      <th>0</th>\n",
       "      <td>A2HD75EMZR8QLN</td>\n",
       "      <td>0700099867</td>\n",
       "      <td>123</td>\n",
       "      <td>[8, 12]</td>\n",
       "      <td>Installing the game was a struggle (because of...</td>\n",
       "      <td>1.0</td>\n",
       "      <td>Pay to unlock content? I don't think so.</td>\n",
       "      <td>2012-07-09</td>\n",
       "    </tr>\n",
       "    <tr>\n",
       "      <th>1</th>\n",
       "      <td>A3UR8NLLY1ZHCX</td>\n",
       "      <td>0700099867</td>\n",
       "      <td>Alejandro Henao \"Electronic Junky\"</td>\n",
       "      <td>[0, 0]</td>\n",
       "      <td>If you like rally cars get this game you will ...</td>\n",
       "      <td>4.0</td>\n",
       "      <td>Good rally game</td>\n",
       "      <td>2013-06-30</td>\n",
       "    </tr>\n",
       "    <tr>\n",
       "      <th>2</th>\n",
       "      <td>A1INA0F5CWW3J4</td>\n",
       "      <td>0700099867</td>\n",
       "      <td>Amazon Shopper \"Mr.Repsol\"</td>\n",
       "      <td>[0, 0]</td>\n",
       "      <td>1st shipment received a book instead of the ga...</td>\n",
       "      <td>1.0</td>\n",
       "      <td>Wrong key</td>\n",
       "      <td>2014-06-28</td>\n",
       "    </tr>\n",
       "    <tr>\n",
       "      <th>3</th>\n",
       "      <td>A1DLMTOTHQ4AST</td>\n",
       "      <td>0700099867</td>\n",
       "      <td>ampgreen</td>\n",
       "      <td>[7, 10]</td>\n",
       "      <td>I got this version instead of the PS3 version,...</td>\n",
       "      <td>NaN</td>\n",
       "      <td>awesome game, if it did not crash frequently !!</td>\n",
       "      <td>2011-09-14</td>\n",
       "    </tr>\n",
       "    <tr>\n",
       "      <th>4</th>\n",
       "      <td>A361M14PU2GUEG</td>\n",
       "      <td>0700099867</td>\n",
       "      <td>Angry Ryan \"Ryan A. Forrest\"</td>\n",
       "      <td>[2, 2]</td>\n",
       "      <td>I had Dirt 2 on Xbox 360 and it was an okay ga...</td>\n",
       "      <td>4.0</td>\n",
       "      <td>DIRT 3</td>\n",
       "      <td>2011-06-14</td>\n",
       "    </tr>\n",
       "    <tr>\n",
       "      <th>5</th>\n",
       "      <td>A2UTRVO4FDCBH6</td>\n",
       "      <td>0700099867</td>\n",
       "      <td>A.R.G.</td>\n",
       "      <td>[0, 0]</td>\n",
       "      <td>Overall this is a well done racing game, with ...</td>\n",
       "      <td>4.0</td>\n",
       "      <td>Good racing game, terrible Windows Live Requir...</td>\n",
       "      <td>2013-05-11</td>\n",
       "    </tr>\n",
       "    <tr>\n",
       "      <th>7</th>\n",
       "      <td>AQTC623NCESZW</td>\n",
       "      <td>0700099867</td>\n",
       "      <td>Chesty Puller</td>\n",
       "      <td>[1, 4]</td>\n",
       "      <td>I can't tell you what a piece of dog**** this ...</td>\n",
       "      <td>1.0</td>\n",
       "      <td>Crash 3 is correct name AKA Microsoft</td>\n",
       "      <td>2012-11-24</td>\n",
       "    </tr>\n",
       "    <tr>\n",
       "      <th>8</th>\n",
       "      <td>A1QJJU33VNC4S7</td>\n",
       "      <td>0700099867</td>\n",
       "      <td>D@rkFX</td>\n",
       "      <td>[0, 1]</td>\n",
       "      <td>I initially gave this one star because it was ...</td>\n",
       "      <td>4.0</td>\n",
       "      <td>A great game ruined by Microsoft's account man...</td>\n",
       "      <td>2012-11-14</td>\n",
       "    </tr>\n",
       "    <tr>\n",
       "      <th>9</th>\n",
       "      <td>A2JLT2WY0F2HVI</td>\n",
       "      <td>0700099867</td>\n",
       "      <td>D. Sweetapple</td>\n",
       "      <td>[1, 1]</td>\n",
       "      <td>I still haven't figured this one out. Did ever...</td>\n",
       "      <td>NaN</td>\n",
       "      <td>Couldn't get this one to work</td>\n",
       "      <td>2014-02-08</td>\n",
       "    </tr>\n",
       "    <tr>\n",
       "      <th>10</th>\n",
       "      <td>A38NXTZUFB1O2K</td>\n",
       "      <td>0700099867</td>\n",
       "      <td>FiSH</td>\n",
       "      <td>[1, 1]</td>\n",
       "      <td>I'm not quite finished with the game's DiRT To...</td>\n",
       "      <td>5.0</td>\n",
       "      <td>Best in the series!</td>\n",
       "      <td>2011-06-28</td>\n",
       "    </tr>\n",
       "  </tbody>\n",
       "</table>\n",
       "</div>"
      ],
      "text/plain": [
       "        reviewerID        asin                        reviewerName  helpful  \\\n",
       "0   A2HD75EMZR8QLN  0700099867                                 123  [8, 12]   \n",
       "1   A3UR8NLLY1ZHCX  0700099867  Alejandro Henao \"Electronic Junky\"   [0, 0]   \n",
       "2   A1INA0F5CWW3J4  0700099867          Amazon Shopper \"Mr.Repsol\"   [0, 0]   \n",
       "3   A1DLMTOTHQ4AST  0700099867                            ampgreen  [7, 10]   \n",
       "4   A361M14PU2GUEG  0700099867        Angry Ryan \"Ryan A. Forrest\"   [2, 2]   \n",
       "5   A2UTRVO4FDCBH6  0700099867                              A.R.G.   [0, 0]   \n",
       "7    AQTC623NCESZW  0700099867                       Chesty Puller   [1, 4]   \n",
       "8   A1QJJU33VNC4S7  0700099867                              D@rkFX   [0, 1]   \n",
       "9   A2JLT2WY0F2HVI  0700099867                       D. Sweetapple   [1, 1]   \n",
       "10  A38NXTZUFB1O2K  0700099867                                FiSH   [1, 1]   \n",
       "\n",
       "                                           reviewText  overall  \\\n",
       "0   Installing the game was a struggle (because of...      1.0   \n",
       "1   If you like rally cars get this game you will ...      4.0   \n",
       "2   1st shipment received a book instead of the ga...      1.0   \n",
       "3   I got this version instead of the PS3 version,...      NaN   \n",
       "4   I had Dirt 2 on Xbox 360 and it was an okay ga...      4.0   \n",
       "5   Overall this is a well done racing game, with ...      4.0   \n",
       "7   I can't tell you what a piece of dog**** this ...      1.0   \n",
       "8   I initially gave this one star because it was ...      4.0   \n",
       "9   I still haven't figured this one out. Did ever...      NaN   \n",
       "10  I'm not quite finished with the game's DiRT To...      5.0   \n",
       "\n",
       "                                              summary reviewTime  \n",
       "0            Pay to unlock content? I don't think so. 2012-07-09  \n",
       "1                                     Good rally game 2013-06-30  \n",
       "2                                           Wrong key 2014-06-28  \n",
       "3     awesome game, if it did not crash frequently !! 2011-09-14  \n",
       "4                                              DIRT 3 2011-06-14  \n",
       "5   Good racing game, terrible Windows Live Requir... 2013-05-11  \n",
       "7               Crash 3 is correct name AKA Microsoft 2012-11-24  \n",
       "8   A great game ruined by Microsoft's account man... 2012-11-14  \n",
       "9                       Couldn't get this one to work 2014-02-08  \n",
       "10                                Best in the series! 2011-06-28  "
      ]
     },
     "execution_count": 5,
     "metadata": {},
     "output_type": "execute_result"
    }
   ],
   "source": [
    "dataset.head(10)"
   ]
  },
  {
   "cell_type": "code",
   "execution_count": 6,
   "metadata": {},
   "outputs": [
    {
     "name": "stdout",
     "output_type": "stream",
     "text": [
      "Количество отзывов 185206\n",
      "Минимальная оценка 1.0\n",
      "Максимальная оценка 5.0\n",
      "Отзывов без оценок 17578\n"
     ]
    }
   ],
   "source": [
    "print('Количество отзывов', len(dataset))\n",
    "min_rating = dataset.overall.min()\n",
    "max_rating = dataset.overall.max()\n",
    "print('Минимальная оценка', min_rating)\n",
    "print('Максимальная оценка', max_rating)\n",
    "print('Отзывов без оценок', dataset.overall.isna().sum())"
   ]
  },
  {
   "cell_type": "code",
   "execution_count": 7,
   "metadata": {
    "scrolled": true
   },
   "outputs": [
    {
     "data": {
      "text/plain": [
       "<matplotlib.axes._subplots.AxesSubplot at 0x21674caba20>"
      ]
     },
     "execution_count": 7,
     "metadata": {},
     "output_type": "execute_result"
    },
    {
     "data": {
      "image/png": "[encoded data removed]",
      "text/plain": [
       "<Figure size 432x288 with 1 Axes>"
      ]
     },
     "metadata": {
      "needs_background": "light"
     },
     "output_type": "display_data"
    }
   ],
   "source": [
    "# Распределение отзывов по времени\n",
    "dataset.reviewTime.hist()"
   ]
  },
  {
   "cell_type": "code",
   "execution_count": 8,
   "metadata": {},
   "outputs": [
    {
     "data": {
      "text/plain": [
       "Timestamp('2014-07-22 00:00:00')"
      ]
     },
     "execution_count": 8,
     "metadata": {},
     "output_type": "execute_result"
    }
   ],
   "source": [
    "dataset.reviewTime.max()"
   ]
  },
  {
   "cell_type": "code",
   "execution_count": 9,
   "metadata": {},
   "outputs": [
    {
     "data": {
      "text/plain": [
       "7.622587150677038"
      ]
     },
     "execution_count": 9,
     "metadata": {},
     "output_type": "execute_result"
    }
   ],
   "source": [
    "# Среднее количество отзывов на человека\n",
    "dataset.groupby('reviewerID').size().mean()"
   ]
  },
  {
   "cell_type": "code",
   "execution_count": 10,
   "metadata": {},
   "outputs": [],
   "source": [
    "# Функция очистки текста, удаляем пунктуацию, стоп слова и оставляем стеммы\n",
    "stopwords_set = stopwords.words('english')\n",
    "stemmer = SnowballStemmer('english')\n",
    "def clean_text(text):\n",
    "    text = text.lower()\n",
    "    words = word_tokenize(text)    \n",
    "    words = [stemmer.stem(word) for word in words if (word not in stopwords_set) and (word not in string.punctuation)]   \n",
    "    return ' '.join(words)"
   ]
  },
  {
   "cell_type": "code",
   "execution_count": 11,
   "metadata": {},
   "outputs": [],
   "source": [
    "# Объединяем summary и reviewText\n",
    "dataset['fullText'] = dataset.summary.fillna('').str.cat(dataset.reviewText.fillna(''), ' ')"
   ]
  },
  {
   "cell_type": "code",
   "execution_count": 12,
   "metadata": {},
   "outputs": [
    {
     "name": "stderr",
     "output_type": "stream",
     "text": [
      "100%|█████████████████████████████████████████████████████████████████████████| 185206/185206 [22:54<00:00, 134.73it/s]\n"
     ]
    }
   ],
   "source": [
    "# Подготавливаем текст\n",
    "dataset['clearText'] = dataset.fullText.progress_apply(clean_text)"
   ]
  },
  {
   "cell_type": "code",
   "execution_count": 13,
   "metadata": {},
   "outputs": [
    {
     "name": "stdout",
     "output_type": "stream",
     "text": [
      "Отзывов без summary 8\n",
      "Отзывов без текста 40\n",
      "Отзывов одновременно без текста и summay 0\n"
     ]
    }
   ],
   "source": [
    "print('Отзывов без summary', dataset.summary.isna().sum())\n",
    "print('Отзывов без текста', dataset.reviewText.isna().sum())\n",
    "print('Отзывов одновременно без текста и summary', (dataset.summary.isna() & dataset.reviewText.isna()).sum())"
   ]
  },
  {
   "cell_type": "code",
   "execution_count": 14,
   "metadata": {},
   "outputs": [
    {
     "data": {
      "text/plain": [
       "0"
      ]
     },
     "execution_count": 14,
     "metadata": {},
     "output_type": "execute_result"
    }
   ],
   "source": [
    "# Проверяем есть ли отзывы без оценки и текста\n",
    "(dataset.overall.isna() & dataset.summary.isna() & dataset.reviewText.isna()).sum()"
   ]
  },
  {
   "cell_type": "code",
   "execution_count": 15,
   "metadata": {},
   "outputs": [
    {
     "data": {
      "text/plain": [
       "0"
      ]
     },
     "execution_count": 15,
     "metadata": {},
     "output_type": "execute_result"
    }
   ],
   "source": [
    "# Проверяем есть ли дубликаты\n",
    "dataset.duplicated(subset=['reviewerID', 'asin']).sum()"
   ]
  },
  {
   "cell_type": "code",
   "execution_count": 16,
   "metadata": {},
   "outputs": [],
   "source": [
    "# Средний рейтинг игр\n",
    "rating_avg = defaultdict(lambda: 0, (dataset.groupby('asin')['overall'].mean()).to_dict())"
   ]
  },
  {
   "cell_type": "code",
   "execution_count": 17,
   "metadata": {
    "scrolled": true
   },
   "outputs": [
    {
     "name": "stderr",
     "output_type": "stream",
     "text": [
      "100%|██████████████████████████████████████████████████████████████████████████| 10672/10672 [00:09<00:00, 1074.59it/s]\n"
     ]
    }
   ],
   "source": [
    "# Средний рейтинг игр помноженный на логарифм количества отзывов \n",
    "rating_x_popularity = defaultdict(lambda: 0, (dataset.groupby('asin').\n",
    "                                              progress_apply(lambda x : x['overall'].mean() * len(x))).to_dict())"
   ]
  },
  {
   "cell_type": "code",
   "execution_count": 18,
   "metadata": {},
   "outputs": [
    {
     "data": {
      "text/plain": [
       "[('B0015AARJI', 2384.524345397949, 4.585623741149902),\n",
       " ('B002VBWIP6', 1859.199935913086, 4.742856979370117),\n",
       " ('B000B9RI14', 1636.1073303222656, 4.812080383300781),\n",
       " ('B0009VXBAQ', 1570.2507762908936, 4.435736656188965),\n",
       " ('B00005NZ1G', 1255.6363334655762, 4.549407005310059),\n",
       " ('B001JKTC9A', 1222.6637363433838, 4.794759750366211),\n",
       " ('B003ZSP0WW', 1151.094386100769, 4.679245471954346),\n",
       " ('B000FQ2D5E', 1128.0000228881836, 4.476190567016602),\n",
       " ('B000UW21A0', 1119.0548095703125, 4.371307849884033),\n",
       " ('B0029LJIFG', 1102.661973953247, 4.652582168579102)]"
      ]
     },
     "execution_count": 18,
     "metadata": {},
     "output_type": "execute_result"
    }
   ],
   "source": [
    "[(i, rating_x_popularity[i], rating_avg[i]) for i in sorted(rating_x_popularity, key = rating_x_popularity.get, reverse=True)][0:10]"
   ]
  },
  {
   "cell_type": "markdown",
   "metadata": {},
   "source": [
    "5 элементов в топе по рейтингу и популярности вовсе не являются играми. <br>Непонятно нужно ли их включать в модель и рекомендовать.\n",
    "- B0015AARJI - Джойстик\n",
    "- B002VBWIP6 - Подписка на Live\n",
    "- B000B9RI14 - Карты для оплаты в цифровом магазине\n",
    "- B0009VXBAQ - Приставка Wii\n",
    "- B003ZSP0WW - Джойстик\n"
   ]
  },
  {
   "cell_type": "code",
   "execution_count": 19,
   "metadata": {},
   "outputs": [
    {
     "data": {
      "text/plain": [
       "\"How could you not love this system.  It is very fun for everyone.  My whole family loves playing Wii Sports and Super Mario Galaxy is one of the greatest games I've played in a while.\""
      ]
     },
     "execution_count": 19,
     "metadata": {},
     "output_type": "execute_result"
    }
   ],
   "source": [
    "dataset[(dataset.asin == 'B0009VXBAQ') & (dataset.overall == 5.0)].reviewText.iloc[4]"
   ]
  },
  {
   "cell_type": "markdown",
   "metadata": {},
   "source": [
    "# Модель для предсказания рейтинга на основе текстового отзыва "
   ]
  },
  {
   "cell_type": "markdown",
   "metadata": {},
   "source": [
    "Поскольку у большого количества отзывов (10%) отсутствует оценки, то перед построением рекоммендательной системы имеет смысл построить модель для предсказания оценки на основе текстового отзыва и заполнить пропуски."
   ]
  },
  {
   "cell_type": "code",
   "execution_count": 20,
   "metadata": {},
   "outputs": [],
   "source": [
    "# Фильтруем отзывы без оценок\n",
    "ratings = dataset[~dataset.overall.isna()]"
   ]
  },
  {
   "cell_type": "code",
   "execution_count": 21,
   "metadata": {},
   "outputs": [],
   "source": [
    "X = ratings['clearText']\n",
    "y = ratings['overall']\n",
    "ratings_train, ratings_test, label_train, label_test = train_test_split(X, y, test_size=0.5, random_state=42)"
   ]
  },
  {
   "cell_type": "code",
   "execution_count": 22,
   "metadata": {
    "scrolled": true
   },
   "outputs": [],
   "source": [
    "# Если решали задачу регрессии, то нужно привести ответы к категориям\n",
    "def categorize_answer(y_pred):\n",
    "    return np.array([min(max(y, min_rating), max_rating) for y in np.round(y_pred)])\n",
    "\n",
    "def train_classifier(model):\n",
    "    pipeline = Pipeline([\n",
    "        # Биграммы незначительно улучшают результат, но значительно увеличивают время обучения\n",
    "        ('Tf-Idf', TfidfVectorizer(ngram_range=(1, 1), min_df=0.01)),\n",
    "        ('classifier', model)\n",
    "    ])\n",
    "    pipeline.fit(ratings_train, label_train)\n",
    "    predicted = pipeline.predict(ratings_test)\n",
    "    answer = categorize_answer(predicted)\n",
    "    print(metrics.classification_report(label_test, answer))\n",
    "    print('MAE: ', metrics.mean_absolute_error(label_test, predicted))\n",
    "    return pipeline"
   ]
  },
  {
   "cell_type": "code",
   "execution_count": 23,
   "metadata": {},
   "outputs": [
    {
     "name": "stdout",
     "output_type": "stream",
     "text": [
      "             precision    recall  f1-score   support\n",
      "\n",
      "        1.0       0.71      0.11      0.19      5345\n",
      "        2.0       0.30      0.19      0.23      4921\n",
      "        3.0       0.31      0.39      0.35     10108\n",
      "        4.0       0.32      0.61      0.42     19995\n",
      "        5.0       0.80      0.53      0.64     43445\n",
      "\n",
      "avg / total       0.59      0.48      0.50     83814\n",
      "\n",
      "MAE:  0.6738542498363781\n"
     ]
    }
   ],
   "source": [
    "linear_regression_model = train_classifier(LinearRegression())"
   ]
  },
  {
   "cell_type": "code",
   "execution_count": 58,
   "metadata": {},
   "outputs": [
    {
     "name": "stdout",
     "output_type": "stream",
     "text": [
      "             precision    recall  f1-score   support\n",
      "\n",
      "        1.0       0.60      0.51      0.55      5345\n",
      "        2.0       0.41      0.10      0.15      4921\n",
      "        3.0       0.44      0.28      0.34     10108\n",
      "        4.0       0.48      0.34      0.40     19995\n",
      "        5.0       0.69      0.90      0.78     43445\n",
      "\n",
      "avg / total       0.58      0.62      0.59     83814\n",
      "\n",
      "MAE:  0.5521512\n"
     ]
    }
   ],
   "source": [
    "logistic_regression_model = train_classifier(LogisticRegression())"
   ]
  },
  {
   "cell_type": "markdown",
   "metadata": {},
   "source": [
    "Были использованы простые модели для демонстрации.\n",
    "Но для таких простых моделей получился довольно неплохой результат, в среднем ошибаемся только на каждом втором отзыве на +-1 балл. "
   ]
  },
  {
   "cell_type": "code",
   "execution_count": 25,
   "metadata": {},
   "outputs": [],
   "source": [
    "# Прогнозируем рейтинг и заполняем пропущенные значения\n",
    "reviews_without_rating = dataset[dataset.overall.isna()]['clearText']\n",
    "predicted_ratings = logistic_regression_model.predict(reviews_without_rating)\n",
    "dataset.loc[dataset.overall.isna(), 'overall'] = predicted_ratings"
   ]
  },
  {
   "cell_type": "markdown",
   "metadata": {},
   "source": [
    "# Рекомендательная система"
   ]
  },
  {
   "cell_type": "markdown",
   "metadata": {},
   "source": [
    "## Подготовка данных"
   ]
  },
  {
   "cell_type": "code",
   "execution_count": 26,
   "metadata": {},
   "outputs": [],
   "source": [
    "# Сколько рекомендаций будем делать\n",
    "recommendation_count = 20"
   ]
  },
  {
   "cell_type": "code",
   "execution_count": 27,
   "metadata": {},
   "outputs": [],
   "source": [
    "# Обучать будем на отзывах до 2014 года\n",
    "dataset_train = dataset.loc[dataset.reviewTime < '2014-01-01']"
   ]
  },
  {
   "cell_type": "code",
   "execution_count": 28,
   "metadata": {},
   "outputs": [],
   "source": [
    "# Валидировать будем на отзывах 2014 года\n",
    "dataset_test = dataset.loc[dataset.reviewTime >= '2014-01-01']"
   ]
  },
  {
   "cell_type": "code",
   "execution_count": 29,
   "metadata": {},
   "outputs": [
    {
     "data": {
      "text/plain": [
       "24297"
      ]
     },
     "execution_count": 29,
     "metadata": {},
     "output_type": "execute_result"
    }
   ],
   "source": [
    "# Всего пользователей\n",
    "all_users = dataset.reviewerID.unique()\n",
    "len(all_users)"
   ]
  },
  {
   "cell_type": "code",
   "execution_count": 30,
   "metadata": {},
   "outputs": [],
   "source": [
    "# Выберем N случайных пользователей для валидации, не беспокоимся, что они есть и в тесте и в трейне\n",
    "test_users_count = 1000\n",
    "test_users = set(dataset['reviewerID'].drop_duplicates().sample(test_users_count, random_state = 42))"
   ]
  },
  {
   "cell_type": "code",
   "execution_count": 31,
   "metadata": {},
   "outputs": [],
   "source": [
    "# Формируем множество игр которые положительно оценили тестовые пользователи в 2014 году\n",
    "test_users_dataset = dataset_test[dataset_test.reviewerID.isin(test_users) & (dataset_test.overall > 2.0)]\n",
    "liked_games = test_users_dataset.groupby(test_users_dataset.reviewerID.astype(object)).apply(lambda x: set(x['asin'])).to_dict()\n",
    "liked_games = defaultdict(set, liked_games)"
   ]
  },
  {
   "cell_type": "code",
   "execution_count": 32,
   "metadata": {},
   "outputs": [],
   "source": [
    "# Отображение из внешнего идентификатора во внутренний\n",
    "user_id_to_cat = dict(zip(\n",
    "    dataset_train['reviewerID'].cat.categories,\n",
    "    range(len(dataset_train['reviewerID'].cat.categories))\n",
    "))\n",
    "element_id_to_cat = dict(zip(\n",
    "    dataset_train['asin'].cat.categories,\n",
    "    range(len(dataset_train['asin'].cat.categories))\n",
    "))"
   ]
  },
  {
   "cell_type": "code",
   "execution_count": 33,
   "metadata": {},
   "outputs": [
    {
     "name": "stderr",
     "output_type": "stream",
     "text": [
      "100%|███████████████████████████████████████████████████████████████████████| 163922/163922 [00:01<00:00, 96788.86it/s]\n"
     ]
    }
   ],
   "source": [
    "# Множество игр которые точно не нужно рекомендовать\n",
    "filtered_games = defaultdict(set)\n",
    "for user_id, element_id in tqdm(dataset_train.loc[:, ['reviewerID', 'asin']].values):\n",
    "    filtered_games[user_id].add(element_id)\n",
    "filtered_games_cat = defaultdict(set, { user_id_to_cat[k]: [element_id_to_cat.get(x, None) for x in v] for k, v in filtered_games.items()})"
   ]
  },
  {
   "cell_type": "code",
   "execution_count": 34,
   "metadata": {},
   "outputs": [],
   "source": [
    "# Качество будем оценивать простой точностью\n",
    "def calculate_precision(recommended, liked):\n",
    "    if len(liked) == 0:\n",
    "        return 0.0\n",
    "    relevant_count = 0.0\n",
    "    for item in recommended:\n",
    "        if item in liked:\n",
    "            relevant_count += 1.0\n",
    "    return relevant_count / min(len(liked), recommendation_count)"
   ]
  },
  {
   "cell_type": "code",
   "execution_count": 35,
   "metadata": {},
   "outputs": [],
   "source": [
    "# Функция вызывает модель для тестовых пользователей и оценивает результат\n",
    "def recommend(model_recommend_func):\n",
    "    precision_sum = 0.0\n",
    "    relevant_count = 0\n",
    "    user_count = 0\n",
    "    for test_user_id in test_users:\n",
    "        # На случай если пользователя не было в трейне\n",
    "        try:\n",
    "            user_cat = user_id_to_cat[test_user_id]\n",
    "        except LookupError:\n",
    "            continue\n",
    "\n",
    "        user_count += 1\n",
    "        recommended = model_recommend_func(user_cat)        \n",
    "        precision_sum += calculate_precision(recommended, liked_games[test_user_id])\n",
    "\n",
    "    print('Mean precision: ', precision_sum / user_count)"
   ]
  },
  {
   "cell_type": "markdown",
   "metadata": {},
   "source": [
    "## Модели независимые от пользователя"
   ]
  },
  {
   "cell_type": "markdown",
   "metadata": {},
   "source": [
    "### Средний рейтинг"
   ]
  },
  {
   "cell_type": "code",
   "execution_count": 36,
   "metadata": {},
   "outputs": [],
   "source": [
    "# Возвращаем топ N игр по среднему рейтингу\n",
    "top_rating_avg = sorted(rating_avg, key = rating_avg.get, reverse=True)\n",
    "def rating_avg_recommend(user_cat):\n",
    "    user_id = dataset_train.reviewerID.cat.categories[user_cat]\n",
    "    user_filtered_games = filtered_games[user_id]\n",
    "    return islice((i for i in top_rating_avg if i not in user_filtered_games), recommendation_count)"
   ]
  },
  {
   "cell_type": "code",
   "execution_count": 37,
   "metadata": {},
   "outputs": [
    {
     "name": "stdout",
     "output_type": "stream",
     "text": [
      "Средний рейтинг:\n",
      "Mean precision:  0.00012222222222222221\n"
     ]
    }
   ],
   "source": [
    "print('Средний рейтинг:')\n",
    "recommend(rating_avg_recommend)"
   ]
  },
  {
   "cell_type": "markdown",
   "metadata": {},
   "source": [
    "### Средний рейтинг и популярность"
   ]
  },
  {
   "cell_type": "code",
   "execution_count": 38,
   "metadata": {},
   "outputs": [],
   "source": [
    "# Возвращаем топ N игр по среднему рейтингу и популярности\n",
    "top_rating_x_popularity = sorted(rating_x_popularity, key = rating_x_popularity.get, reverse=True)\n",
    "def rating_popularity_recommend(user_cat):\n",
    "    user_id = dataset_train.reviewerID.cat.categories[user_cat]\n",
    "    user_filtered_games = filtered_games[user_id]\n",
    "    return islice((i for i in top_rating_x_popularity if i not in user_filtered_games), recommendation_count)"
   ]
  },
  {
   "cell_type": "code",
   "execution_count": 39,
   "metadata": {},
   "outputs": [
    {
     "name": "stdout",
     "output_type": "stream",
     "text": [
      "Средний рейтинг и популярность:\n",
      "Mean precision:  0.0068916666666666675\n"
     ]
    }
   ],
   "source": [
    "print('Средний рейтинг и популярность:')\n",
    "recommend(rating_popularity_recommend)"
   ]
  },
  {
   "cell_type": "markdown",
   "metadata": {},
   "source": [
    "## Простые модели основанные на схожести пользователей"
   ]
  },
  {
   "cell_type": "code",
   "execution_count": 40,
   "metadata": {},
   "outputs": [],
   "source": [
    "# Строим матрицу оценок\n",
    "ratings_matrix = sp.coo_matrix(\n",
    "    (dataset_train['overall'],\n",
    "        (\n",
    "            dataset_train['asin'].cat.codes.copy(),\n",
    "            dataset_train['reviewerID'].cat.codes.copy()\n",
    "        )\n",
    "    )\n",
    ")\n",
    "\n",
    "ratings_matrix = ratings_matrix.tocsr()\n",
    "ratings_matrix_T = ratings_matrix.T.tocsr()"
   ]
  },
  {
   "cell_type": "code",
   "execution_count": 41,
   "metadata": {},
   "outputs": [
    {
     "name": "stdout",
     "output_type": "stream",
     "text": [
      "Sparsity: 0.000636\n"
     ]
    }
   ],
   "source": [
    "sparsity = ratings_matrix.nnz / (ratings_matrix.shape[0] * ratings_matrix.shape[1])\n",
    "print('Sparsity: %.6f' % sparsity)"
   ]
  },
  {
   "cell_type": "code",
   "execution_count": 42,
   "metadata": {},
   "outputs": [],
   "source": [
    "def implicit_model_recommend(user_cat, model, user_items):\n",
    "    recommended_cat = model.recommend(\n",
    "                user_cat,\n",
    "                user_items,\n",
    "                N = recommendation_count,\n",
    "                filter_already_liked_items = True,\n",
    "                filter_items= filtered_games_cat.get(user_cat, set())\n",
    "            )\n",
    "    recommended = [dataset_train['asin'].cat.categories[i] for i, _ in recommended_cat]\n",
    "    return recommended"
   ]
  },
  {
   "cell_type": "markdown",
   "metadata": {},
   "source": [
    "### BM25"
   ]
  },
  {
   "cell_type": "code",
   "execution_count": 43,
   "metadata": {
    "scrolled": false
   },
   "outputs": [
    {
     "name": "stderr",
     "output_type": "stream",
     "text": [
      "100%|█████████████████████████████████████████████████████████████████████████| 10609/10609 [00:00<00:00, 48647.38it/s]\n"
     ]
    }
   ],
   "source": [
    "bm25_model = BM25Recommender(K = 60)\n",
    "bm25_model.fit(ratings_matrix)"
   ]
  },
  {
   "cell_type": "code",
   "execution_count": 44,
   "metadata": {},
   "outputs": [],
   "source": [
    "def bm25_recommend(user_cat):\n",
    "    return implicit_model_recommend(user_cat, bm25_model, ratings_matrix_T)"
   ]
  },
  {
   "cell_type": "code",
   "execution_count": 45,
   "metadata": {},
   "outputs": [
    {
     "name": "stdout",
     "output_type": "stream",
     "text": [
      "Схожесть BM25:\n",
      "Mean precision:  0.014076129426129427\n"
     ]
    }
   ],
   "source": [
    "print('Схожесть BM25:')\n",
    "recommend(bm25_recommend)"
   ]
  },
  {
   "cell_type": "markdown",
   "metadata": {},
   "source": [
    "### Cosine"
   ]
  },
  {
   "cell_type": "code",
   "execution_count": 46,
   "metadata": {},
   "outputs": [
    {
     "name": "stderr",
     "output_type": "stream",
     "text": [
      "100%|█████████████████████████████████████████████████████████████████████████| 10609/10609 [00:00<00:00, 43685.95it/s]\n"
     ]
    }
   ],
   "source": [
    "cosine_model = CosineRecommender(K = 120)\n",
    "cosine_model.fit(ratings_matrix)"
   ]
  },
  {
   "cell_type": "code",
   "execution_count": 47,
   "metadata": {},
   "outputs": [],
   "source": [
    "def cosine_recommend(user_cat):\n",
    "    return implicit_model_recommend(user_cat, cosine_model, ratings_matrix_T)"
   ]
  },
  {
   "cell_type": "code",
   "execution_count": 48,
   "metadata": {},
   "outputs": [
    {
     "name": "stdout",
     "output_type": "stream",
     "text": [
      "Схожесть Cosine:\n",
      "Mean precision:  0.012730494505494506\n"
     ]
    }
   ],
   "source": [
    "print('Схожесть Cosine:')\n",
    "recommend(cosine_recommend)"
   ]
  },
  {
   "cell_type": "markdown",
   "metadata": {},
   "source": [
    "## Модели основанные на разложении матрицы"
   ]
  },
  {
   "cell_type": "markdown",
   "metadata": {},
   "source": [
    "### ALS"
   ]
  },
  {
   "cell_type": "code",
   "execution_count": 49,
   "metadata": {},
   "outputs": [],
   "source": [
    "# Строим матрицу оценок\n",
    "als_ratings_matrix = sp.coo_matrix(\n",
    "    (dataset_train['overall'] - 2,\n",
    "        (\n",
    "            dataset_train['asin'].cat.codes.copy(),\n",
    "            dataset_train['reviewerID'].cat.codes.copy()\n",
    "        )\n",
    "    )\n",
    ")\n",
    "\n",
    "als_ratings_matrix = als_ratings_matrix.tocsr()\n",
    "als_ratings_matrix_T = als_ratings_matrix.T.tocsr()"
   ]
  },
  {
   "cell_type": "code",
   "execution_count": 50,
   "metadata": {},
   "outputs": [
    {
     "name": "stderr",
     "output_type": "stream",
     "text": [
      "WARNING:root:Intel MKL BLAS detected. Its highly recommend to set the environment variable 'export MKL_NUM_THREADS=1' to disable its internal multithreading\n",
      "100%|████████████████████████████████████████████████████████████████████████████████| 15.0/15 [00:00<00:00, 19.46it/s]\n"
     ]
    }
   ],
   "source": [
    "als_model = AlternatingLeastSquares(factors=5)\n",
    "als_model.fit(als_ratings_matrix)"
   ]
  },
  {
   "cell_type": "code",
   "execution_count": 51,
   "metadata": {},
   "outputs": [],
   "source": [
    "def als_recommend(user_cat):\n",
    "    return implicit_model_recommend(user_cat, als_model, als_ratings_matrix_T)"
   ]
  },
  {
   "cell_type": "code",
   "execution_count": 52,
   "metadata": {},
   "outputs": [
    {
     "name": "stdout",
     "output_type": "stream",
     "text": [
      "ALS:\n",
      "Mean precision:  0.01250873015873016\n"
     ]
    }
   ],
   "source": [
    "print('ALS:')\n",
    "recommend(als_recommend)"
   ]
  },
  {
   "cell_type": "markdown",
   "metadata": {},
   "source": [
    "### WARP"
   ]
  },
  {
   "cell_type": "code",
   "execution_count": 53,
   "metadata": {},
   "outputs": [
    {
     "data": {
      "text/plain": [
       "<lightfm.lightfm.LightFM at 0x216201ac080>"
      ]
     },
     "execution_count": 53,
     "metadata": {},
     "output_type": "execute_result"
    }
   ],
   "source": [
    "fm_ratings_matrix = als_ratings_matrix_T\n",
    "fm_model = LightFM(no_components=39, loss='warp', random_state=42)\n",
    "fm_model.fit(fm_ratings_matrix, epochs=5)"
   ]
  },
  {
   "cell_type": "code",
   "execution_count": 54,
   "metadata": {},
   "outputs": [],
   "source": [
    "items_count = len(dataset_train.asin.unique())\n",
    "def warp_recommend(user_cat):\n",
    "    scores = fm_model.predict(\n",
    "        user_cat,\n",
    "        np.arange(items_count)\n",
    "    )\n",
    "    \n",
    "    user_filtered_games_cat = filtered_games_cat[user_cat]\n",
    "    recommended = [dataset_train['asin'].cat.categories[i] for i in np.argsort(-scores)[:recommendation_count + len(user_filtered_games_cat)] if i not in user_filtered_games_cat][:recommendation_count]\n",
    "    return recommended"
   ]
  },
  {
   "cell_type": "code",
   "execution_count": 55,
   "metadata": {},
   "outputs": [
    {
     "name": "stdout",
     "output_type": "stream",
     "text": [
      "WARP:\n",
      "Mean precision:  0.017482081807081808\n"
     ]
    }
   ],
   "source": [
    "print('WARP:')\n",
    "recommend(warp_recommend)"
   ]
  },
  {
   "cell_type": "markdown",
   "metadata": {},
   "source": [
    "## Результаты"
   ]
  },
  {
   "cell_type": "code",
   "execution_count": 56,
   "metadata": {},
   "outputs": [
    {
     "name": "stdout",
     "output_type": "stream",
     "text": [
      "Средний рейтинг:\n",
      "Mean precision:  0.00012222222222222221\n",
      "Средний рейтинг и популярность:\n",
      "Mean precision:  0.0068916666666666675\n",
      "Схожесть Cosine:\n",
      "Mean precision:  0.012730494505494506\n",
      "Схожесть BM25:\n",
      "Mean precision:  0.014076129426129427\n",
      "ALS:\n",
      "Mean precision:  0.01250873015873016\n",
      "WARP:\n",
      "Mean precision:  0.017482081807081808\n"
     ]
    }
   ],
   "source": [
    "print('Средний рейтинг:')\n",
    "recommend(rating_avg_recommend)\n",
    "print('Средний рейтинг и популярность:')\n",
    "recommend(rating_popularity_recommend)\n",
    "print('Схожесть Cosine:')\n",
    "recommend(cosine_recommend)\n",
    "print('Схожесть BM25:')\n",
    "recommend(bm25_recommend)\n",
    "print('ALS:')\n",
    "recommend(als_recommend)\n",
    "print('WARP:')\n",
    "recommend(warp_recommend)"
   ]
  },
  {
   "cell_type": "markdown",
   "metadata": {},
   "source": [
    "В качестве базовой модели используется топ по среднему рейтингу и популярности. Простая модель, основанная на схожести вкусов пользователей BM25, превосходит базовую в 2 раза, а модель, основанная на скрытых факторах WARP, превосходит базовую в 2.5 раза. "
   ]
  }
 ],
 "metadata": {
  "kernelspec": {
   "display_name": "Python 3",
   "language": "python",
   "name": "python3"
  },
  "language_info": {
   "codemirror_mode": {
    "name": "ipython",
    "version": 3
   },
   "file_extension": ".py",
   "mimetype": "text/x-python",
   "name": "python",
   "nbconvert_exporter": "python",
   "pygments_lexer": "ipython3",
   "version": "3.7.0"
  }
 },
 "nbformat": 4,
 "nbformat_minor": 2
}
